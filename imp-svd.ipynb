{
 "cells": [
  {
   "cell_type": "code",
   "execution_count": 23,
   "metadata": {},
   "outputs": [],
   "source": [
    "import pandas as pd\n",
    "import numpy as np\n",
    "import os\n",
    "import math\n",
    "import matplotlib.pyplot as plt \n",
    "import matplotlib.ticker as mtick\n",
    "from datetime import date"
   ]
  },
  {
   "cell_type": "code",
   "execution_count": 24,
   "metadata": {},
   "outputs": [],
   "source": [
    "DIR_DATA='data'\n",
    "today = date.today().strftime(\"%d/%m/%Y\")"
   ]
  },
  {
   "cell_type": "code",
   "execution_count": 25,
   "metadata": {},
   "outputs": [],
   "source": [
    "#load all variables/observations\n",
    "df_data=[]\n",
    "for filename in os.listdir(DIR_DATA):\n",
    "    f = os.path.join(DIR_DATA, filename)\n",
    "    # checking if it is a file\n",
    "    if os.path.isfile(f):\n",
    "        if f.endswith('csv'):\n",
    "            df_data.append(pd.read_csv(f))"
   ]
  },
  {
   "cell_type": "code",
   "execution_count": 26,
   "metadata": {},
   "outputs": [],
   "source": [
    "#list of parties\n",
    "cols=list(df_data[0].columns)\n",
    "cols.remove('DATE')\n",
    "#remove\n",
    "parties_rm=['PC']\n",
    "for p in parties_rm:\n",
    "    cols.remove(p)"
   ]
  },
  {
   "cell_type": "code",
   "execution_count": 27,
   "metadata": {},
   "outputs": [],
   "source": [
    "#collect means of variables\n",
    "try:\n",
    "    del df_svd\n",
    "except:\n",
    "    pass\n",
    "df_svd = pd.DataFrame(columns = cols)\n",
    "for idf,df in enumerate(df_data):\n",
    "    df_svd.loc[idf]=df[cols].mean()"
   ]
  },
  {
   "cell_type": "code",
   "execution_count": 28,
   "metadata": {},
   "outputs": [],
   "source": [
    "#normalize means to max\n",
    "dfMax = df_svd.max(axis=1)\n",
    "df_svd=df_svd.divide(dfMax,axis=0)"
   ]
  },
  {
   "cell_type": "code",
   "execution_count": 7,
   "metadata": {},
   "outputs": [
    {
     "data": {
      "text/html": [
       "<div>\n",
       "<style scoped>\n",
       "    .dataframe tbody tr th:only-of-type {\n",
       "        vertical-align: middle;\n",
       "    }\n",
       "\n",
       "    .dataframe tbody tr th {\n",
       "        vertical-align: top;\n",
       "    }\n",
       "\n",
       "    .dataframe thead th {\n",
       "        text-align: right;\n",
       "    }\n",
       "</style>\n",
       "<table border=\"1\" class=\"dataframe\">\n",
       "  <thead>\n",
       "    <tr style=\"text-align: right;\">\n",
       "      <th></th>\n",
       "      <th>VICTORIA</th>\n",
       "      <th>VIVA</th>\n",
       "      <th>SEMILLA</th>\n",
       "      <th>CAMBIO</th>\n",
       "      <th>CABAL</th>\n",
       "      <th>AZUL</th>\n",
       "      <th>UNE</th>\n",
       "      <th>BIEN</th>\n",
       "      <th>FCN-NACION</th>\n",
       "      <th>VALOR-UNIONISTA</th>\n",
       "      <th>...</th>\n",
       "      <th>VAMOS</th>\n",
       "      <th>ELEFANTE</th>\n",
       "      <th>PHG</th>\n",
       "      <th>NOSOTROS</th>\n",
       "      <th>MI-FAMILIA</th>\n",
       "      <th>UR</th>\n",
       "      <th>VOS</th>\n",
       "      <th>URNG-WINAQ</th>\n",
       "      <th>PIN</th>\n",
       "      <th>REPUBLICANO</th>\n",
       "    </tr>\n",
       "  </thead>\n",
       "  <tbody>\n",
       "    <tr>\n",
       "      <th>0</th>\n",
       "      <td>0.120256</td>\n",
       "      <td>0.153137</td>\n",
       "      <td>0.099954</td>\n",
       "      <td>0.004285</td>\n",
       "      <td>1.000000</td>\n",
       "      <td>0.034642</td>\n",
       "      <td>0.299895</td>\n",
       "      <td>0.078532</td>\n",
       "      <td>0.308824</td>\n",
       "      <td>0.644927</td>\n",
       "      <td>...</td>\n",
       "      <td>NaN</td>\n",
       "      <td>NaN</td>\n",
       "      <td>NaN</td>\n",
       "      <td>0.066511</td>\n",
       "      <td>0.017900</td>\n",
       "      <td>0.049691</td>\n",
       "      <td>0.122314</td>\n",
       "      <td>0.011022</td>\n",
       "      <td>0.072642</td>\n",
       "      <td>0.038256</td>\n",
       "    </tr>\n",
       "    <tr>\n",
       "      <th>1</th>\n",
       "      <td>NaN</td>\n",
       "      <td>NaN</td>\n",
       "      <td>NaN</td>\n",
       "      <td>NaN</td>\n",
       "      <td>0.637555</td>\n",
       "      <td>NaN</td>\n",
       "      <td>0.781659</td>\n",
       "      <td>NaN</td>\n",
       "      <td>NaN</td>\n",
       "      <td>1.000000</td>\n",
       "      <td>...</td>\n",
       "      <td>NaN</td>\n",
       "      <td>NaN</td>\n",
       "      <td>NaN</td>\n",
       "      <td>NaN</td>\n",
       "      <td>NaN</td>\n",
       "      <td>NaN</td>\n",
       "      <td>NaN</td>\n",
       "      <td>NaN</td>\n",
       "      <td>NaN</td>\n",
       "      <td>NaN</td>\n",
       "    </tr>\n",
       "    <tr>\n",
       "      <th>2</th>\n",
       "      <td>0.093023</td>\n",
       "      <td>0.093023</td>\n",
       "      <td>NaN</td>\n",
       "      <td>NaN</td>\n",
       "      <td>0.720930</td>\n",
       "      <td>NaN</td>\n",
       "      <td>1.000000</td>\n",
       "      <td>NaN</td>\n",
       "      <td>NaN</td>\n",
       "      <td>0.930233</td>\n",
       "      <td>...</td>\n",
       "      <td>0.186047</td>\n",
       "      <td>NaN</td>\n",
       "      <td>NaN</td>\n",
       "      <td>NaN</td>\n",
       "      <td>NaN</td>\n",
       "      <td>NaN</td>\n",
       "      <td>0.093023</td>\n",
       "      <td>NaN</td>\n",
       "      <td>NaN</td>\n",
       "      <td>0.093023</td>\n",
       "    </tr>\n",
       "    <tr>\n",
       "      <th>3</th>\n",
       "      <td>NaN</td>\n",
       "      <td>NaN</td>\n",
       "      <td>NaN</td>\n",
       "      <td>0.222222</td>\n",
       "      <td>1.000000</td>\n",
       "      <td>NaN</td>\n",
       "      <td>0.522222</td>\n",
       "      <td>NaN</td>\n",
       "      <td>NaN</td>\n",
       "      <td>0.848148</td>\n",
       "      <td>...</td>\n",
       "      <td>0.366667</td>\n",
       "      <td>NaN</td>\n",
       "      <td>NaN</td>\n",
       "      <td>NaN</td>\n",
       "      <td>NaN</td>\n",
       "      <td>NaN</td>\n",
       "      <td>NaN</td>\n",
       "      <td>NaN</td>\n",
       "      <td>NaN</td>\n",
       "      <td>NaN</td>\n",
       "    </tr>\n",
       "    <tr>\n",
       "      <th>4</th>\n",
       "      <td>0.059940</td>\n",
       "      <td>0.017982</td>\n",
       "      <td>0.036464</td>\n",
       "      <td>0.018482</td>\n",
       "      <td>0.397103</td>\n",
       "      <td>0.060939</td>\n",
       "      <td>1.000000</td>\n",
       "      <td>0.025974</td>\n",
       "      <td>0.015984</td>\n",
       "      <td>0.500999</td>\n",
       "      <td>...</td>\n",
       "      <td>0.144855</td>\n",
       "      <td>0.009990</td>\n",
       "      <td>0.013986</td>\n",
       "      <td>0.022478</td>\n",
       "      <td>0.025475</td>\n",
       "      <td>0.035964</td>\n",
       "      <td>0.076923</td>\n",
       "      <td>0.046953</td>\n",
       "      <td>0.013487</td>\n",
       "      <td>0.049950</td>\n",
       "    </tr>\n",
       "    <tr>\n",
       "      <th>5</th>\n",
       "      <td>NaN</td>\n",
       "      <td>NaN</td>\n",
       "      <td>NaN</td>\n",
       "      <td>NaN</td>\n",
       "      <td>0.789203</td>\n",
       "      <td>NaN</td>\n",
       "      <td>0.848329</td>\n",
       "      <td>NaN</td>\n",
       "      <td>NaN</td>\n",
       "      <td>1.000000</td>\n",
       "      <td>...</td>\n",
       "      <td>0.318766</td>\n",
       "      <td>NaN</td>\n",
       "      <td>NaN</td>\n",
       "      <td>NaN</td>\n",
       "      <td>NaN</td>\n",
       "      <td>NaN</td>\n",
       "      <td>0.352185</td>\n",
       "      <td>NaN</td>\n",
       "      <td>NaN</td>\n",
       "      <td>NaN</td>\n",
       "    </tr>\n",
       "    <tr>\n",
       "      <th>6</th>\n",
       "      <td>0.122018</td>\n",
       "      <td>0.112338</td>\n",
       "      <td>0.112338</td>\n",
       "      <td>NaN</td>\n",
       "      <td>0.257997</td>\n",
       "      <td>0.031612</td>\n",
       "      <td>1.000000</td>\n",
       "      <td>NaN</td>\n",
       "      <td>NaN</td>\n",
       "      <td>0.314051</td>\n",
       "      <td>...</td>\n",
       "      <td>NaN</td>\n",
       "      <td>NaN</td>\n",
       "      <td>NaN</td>\n",
       "      <td>0.067315</td>\n",
       "      <td>0.086112</td>\n",
       "      <td>0.113474</td>\n",
       "      <td>0.152767</td>\n",
       "      <td>NaN</td>\n",
       "      <td>0.072326</td>\n",
       "      <td>0.123058</td>\n",
       "    </tr>\n",
       "    <tr>\n",
       "      <th>7</th>\n",
       "      <td>0.851063</td>\n",
       "      <td>0.118202</td>\n",
       "      <td>0.389730</td>\n",
       "      <td>0.001881</td>\n",
       "      <td>1.000000</td>\n",
       "      <td>0.005496</td>\n",
       "      <td>0.737174</td>\n",
       "      <td>0.156521</td>\n",
       "      <td>0.116101</td>\n",
       "      <td>0.202723</td>\n",
       "      <td>...</td>\n",
       "      <td>NaN</td>\n",
       "      <td>NaN</td>\n",
       "      <td>NaN</td>\n",
       "      <td>0.021863</td>\n",
       "      <td>0.013937</td>\n",
       "      <td>0.048252</td>\n",
       "      <td>0.327073</td>\n",
       "      <td>0.008357</td>\n",
       "      <td>0.067212</td>\n",
       "      <td>0.004978</td>\n",
       "    </tr>\n",
       "    <tr>\n",
       "      <th>8</th>\n",
       "      <td>0.653351</td>\n",
       "      <td>0.116359</td>\n",
       "      <td>0.028355</td>\n",
       "      <td>0.011067</td>\n",
       "      <td>0.587067</td>\n",
       "      <td>0.036162</td>\n",
       "      <td>0.930072</td>\n",
       "      <td>NaN</td>\n",
       "      <td>NaN</td>\n",
       "      <td>1.000000</td>\n",
       "      <td>...</td>\n",
       "      <td>0.022312</td>\n",
       "      <td>NaN</td>\n",
       "      <td>0.009061</td>\n",
       "      <td>0.167304</td>\n",
       "      <td>0.026929</td>\n",
       "      <td>0.039684</td>\n",
       "      <td>0.377296</td>\n",
       "      <td>NaN</td>\n",
       "      <td>0.005399</td>\n",
       "      <td>0.051645</td>\n",
       "    </tr>\n",
       "    <tr>\n",
       "      <th>9</th>\n",
       "      <td>0.174359</td>\n",
       "      <td>NaN</td>\n",
       "      <td>NaN</td>\n",
       "      <td>NaN</td>\n",
       "      <td>0.517949</td>\n",
       "      <td>NaN</td>\n",
       "      <td>1.000000</td>\n",
       "      <td>0.097436</td>\n",
       "      <td>0.112821</td>\n",
       "      <td>0.471795</td>\n",
       "      <td>...</td>\n",
       "      <td>0.256410</td>\n",
       "      <td>NaN</td>\n",
       "      <td>NaN</td>\n",
       "      <td>NaN</td>\n",
       "      <td>NaN</td>\n",
       "      <td>NaN</td>\n",
       "      <td>0.158974</td>\n",
       "      <td>NaN</td>\n",
       "      <td>NaN</td>\n",
       "      <td>NaN</td>\n",
       "    </tr>\n",
       "    <tr>\n",
       "      <th>10</th>\n",
       "      <td>0.039568</td>\n",
       "      <td>0.039568</td>\n",
       "      <td>0.271194</td>\n",
       "      <td>NaN</td>\n",
       "      <td>0.304323</td>\n",
       "      <td>0.042793</td>\n",
       "      <td>0.775172</td>\n",
       "      <td>0.003568</td>\n",
       "      <td>0.129266</td>\n",
       "      <td>1.000000</td>\n",
       "      <td>...</td>\n",
       "      <td>0.050145</td>\n",
       "      <td>0.013898</td>\n",
       "      <td>0.002022</td>\n",
       "      <td>0.003022</td>\n",
       "      <td>0.025414</td>\n",
       "      <td>0.030169</td>\n",
       "      <td>0.535692</td>\n",
       "      <td>0.133942</td>\n",
       "      <td>0.009164</td>\n",
       "      <td>0.006875</td>\n",
       "    </tr>\n",
       "    <tr>\n",
       "      <th>11</th>\n",
       "      <td>0.317308</td>\n",
       "      <td>NaN</td>\n",
       "      <td>0.192308</td>\n",
       "      <td>NaN</td>\n",
       "      <td>1.000000</td>\n",
       "      <td>0.192308</td>\n",
       "      <td>0.990385</td>\n",
       "      <td>0.096154</td>\n",
       "      <td>NaN</td>\n",
       "      <td>0.961538</td>\n",
       "      <td>...</td>\n",
       "      <td>0.230769</td>\n",
       "      <td>NaN</td>\n",
       "      <td>NaN</td>\n",
       "      <td>NaN</td>\n",
       "      <td>0.298077</td>\n",
       "      <td>0.221154</td>\n",
       "      <td>0.451923</td>\n",
       "      <td>NaN</td>\n",
       "      <td>NaN</td>\n",
       "      <td>0.211538</td>\n",
       "    </tr>\n",
       "    <tr>\n",
       "      <th>12</th>\n",
       "      <td>0.843566</td>\n",
       "      <td>0.141882</td>\n",
       "      <td>0.224733</td>\n",
       "      <td>0.007331</td>\n",
       "      <td>0.663946</td>\n",
       "      <td>0.011403</td>\n",
       "      <td>1.000000</td>\n",
       "      <td>0.117844</td>\n",
       "      <td>0.178493</td>\n",
       "      <td>0.310024</td>\n",
       "      <td>...</td>\n",
       "      <td>NaN</td>\n",
       "      <td>NaN</td>\n",
       "      <td>NaN</td>\n",
       "      <td>0.036558</td>\n",
       "      <td>0.026327</td>\n",
       "      <td>0.129135</td>\n",
       "      <td>0.259801</td>\n",
       "      <td>0.017394</td>\n",
       "      <td>0.180068</td>\n",
       "      <td>0.022204</td>\n",
       "    </tr>\n",
       "  </tbody>\n",
       "</table>\n",
       "<p>13 rows × 22 columns</p>\n",
       "</div>"
      ],
      "text/plain": [
       "    VICTORIA      VIVA   SEMILLA    CAMBIO     CABAL      AZUL       UNE  \\\n",
       "0   0.120256  0.153137  0.099954  0.004285  1.000000  0.034642  0.299895   \n",
       "1        NaN       NaN       NaN       NaN  0.637555       NaN  0.781659   \n",
       "2   0.093023  0.093023       NaN       NaN  0.720930       NaN  1.000000   \n",
       "3        NaN       NaN       NaN  0.222222  1.000000       NaN  0.522222   \n",
       "4   0.059940  0.017982  0.036464  0.018482  0.397103  0.060939  1.000000   \n",
       "5        NaN       NaN       NaN       NaN  0.789203       NaN  0.848329   \n",
       "6   0.122018  0.112338  0.112338       NaN  0.257997  0.031612  1.000000   \n",
       "7   0.851063  0.118202  0.389730  0.001881  1.000000  0.005496  0.737174   \n",
       "8   0.653351  0.116359  0.028355  0.011067  0.587067  0.036162  0.930072   \n",
       "9   0.174359       NaN       NaN       NaN  0.517949       NaN  1.000000   \n",
       "10  0.039568  0.039568  0.271194       NaN  0.304323  0.042793  0.775172   \n",
       "11  0.317308       NaN  0.192308       NaN  1.000000  0.192308  0.990385   \n",
       "12  0.843566  0.141882  0.224733  0.007331  0.663946  0.011403  1.000000   \n",
       "\n",
       "        BIEN  FCN-NACION  VALOR-UNIONISTA  ...     VAMOS  ELEFANTE       PHG  \\\n",
       "0   0.078532    0.308824         0.644927  ...       NaN       NaN       NaN   \n",
       "1        NaN         NaN         1.000000  ...       NaN       NaN       NaN   \n",
       "2        NaN         NaN         0.930233  ...  0.186047       NaN       NaN   \n",
       "3        NaN         NaN         0.848148  ...  0.366667       NaN       NaN   \n",
       "4   0.025974    0.015984         0.500999  ...  0.144855  0.009990  0.013986   \n",
       "5        NaN         NaN         1.000000  ...  0.318766       NaN       NaN   \n",
       "6        NaN         NaN         0.314051  ...       NaN       NaN       NaN   \n",
       "7   0.156521    0.116101         0.202723  ...       NaN       NaN       NaN   \n",
       "8        NaN         NaN         1.000000  ...  0.022312       NaN  0.009061   \n",
       "9   0.097436    0.112821         0.471795  ...  0.256410       NaN       NaN   \n",
       "10  0.003568    0.129266         1.000000  ...  0.050145  0.013898  0.002022   \n",
       "11  0.096154         NaN         0.961538  ...  0.230769       NaN       NaN   \n",
       "12  0.117844    0.178493         0.310024  ...       NaN       NaN       NaN   \n",
       "\n",
       "    NOSOTROS  MI-FAMILIA        UR       VOS  URNG-WINAQ       PIN  \\\n",
       "0   0.066511    0.017900  0.049691  0.122314    0.011022  0.072642   \n",
       "1        NaN         NaN       NaN       NaN         NaN       NaN   \n",
       "2        NaN         NaN       NaN  0.093023         NaN       NaN   \n",
       "3        NaN         NaN       NaN       NaN         NaN       NaN   \n",
       "4   0.022478    0.025475  0.035964  0.076923    0.046953  0.013487   \n",
       "5        NaN         NaN       NaN  0.352185         NaN       NaN   \n",
       "6   0.067315    0.086112  0.113474  0.152767         NaN  0.072326   \n",
       "7   0.021863    0.013937  0.048252  0.327073    0.008357  0.067212   \n",
       "8   0.167304    0.026929  0.039684  0.377296         NaN  0.005399   \n",
       "9        NaN         NaN       NaN  0.158974         NaN       NaN   \n",
       "10  0.003022    0.025414  0.030169  0.535692    0.133942  0.009164   \n",
       "11       NaN    0.298077  0.221154  0.451923         NaN       NaN   \n",
       "12  0.036558    0.026327  0.129135  0.259801    0.017394  0.180068   \n",
       "\n",
       "    REPUBLICANO  \n",
       "0      0.038256  \n",
       "1           NaN  \n",
       "2      0.093023  \n",
       "3           NaN  \n",
       "4      0.049950  \n",
       "5           NaN  \n",
       "6      0.123058  \n",
       "7      0.004978  \n",
       "8      0.051645  \n",
       "9           NaN  \n",
       "10     0.006875  \n",
       "11     0.211538  \n",
       "12     0.022204  \n",
       "\n",
       "[13 rows x 22 columns]"
      ]
     },
     "execution_count": 7,
     "metadata": {},
     "output_type": "execute_result"
    }
   ],
   "source": [
    "df_svd"
   ]
  },
  {
   "cell_type": "code",
   "execution_count": 29,
   "metadata": {},
   "outputs": [],
   "source": [
    "#Mulitple Imputation\n",
    "try:\n",
    "    del df_svdm\n",
    "except:\n",
    "    pass\n",
    "df_svdm=df_svd.copy()\n",
    "#Simple Imputation\n",
    "try:\n",
    "    del df_svds\n",
    "except:\n",
    "    pass\n",
    "df_svds=df_svd.copy()"
   ]
  },
  {
   "cell_type": "code",
   "execution_count": 30,
   "metadata": {},
   "outputs": [],
   "source": [
    "#Multiple Imputation\n",
    "try:\n",
    "    del df_mi\n",
    "except:\n",
    "    pass\n",
    "df_mi=pd.DataFrame(columns=cols)\n",
    "try:\n",
    "    del df_li\n",
    "except:\n",
    "    pass\n",
    "df_li=pd.DataFrame(columns=cols)\n",
    "\n",
    "for i in range(50):\n",
    "    try:\n",
    "        del df_temp\n",
    "    except:\n",
    "        pass\n",
    "    df_temp=df_svdm.copy()\n",
    "    for party in cols:\n",
    "        #for index, item in df_svdm[party].iteritems(): pandas version\n",
    "        for index, item in df_svdm[party].items():\n",
    "            if math.isnan(df_svdm[party].std()):\n",
    "                rand=df_svdm[party].mean()\n",
    "            else:\n",
    "                #rand=np.random.normal(df_svdm[party].mean(), df_svdm[party].std(), 1)[0] #normal\n",
    "                rand=np.random.uniform(df_svdm[party].min(), df_svdm[party].max()) #uniform\n",
    "                #rand=np.random.poisson(df_svdm[party].mean(), 1)[0] #poisson\n",
    "            while rand <0:\n",
    "                #rand=np.random.normal(df_svdm[party].mean(), df_svdm[party].std(), 1)[0] #normal\n",
    "                rand=np.random.uniform(df_svdm[party].min(), df_svdm[party].max()) #uniform\n",
    "                #rand=np.random.poisson(df_svdm[party].mean(), 1)[0] #poisson\n",
    "            df_temp[party].iloc[index]=rand\n",
    "    u, s, v = np.linalg.svd(df_temp, full_matrices=False)\n",
    "    #lower frequency(pca1)\n",
    "    df_comp=pd.DataFrame(np.matrix(u[:1, :1]) * np.diag(s[:1]) * np.matrix(v[:1, :]))\n",
    "    df_comp.columns=cols\n",
    "    #print(df_comp.std().sum())\n",
    "    temp_s=df_comp.sum(axis=1)[0]\n",
    "    #df_mi=df_mi.append(df_comp.div(df_comp.sum(axis=1), axis=0).mean(),ignore_index=True) pandas version\n",
    "    df_mi = pd.concat([df_mi, pd.DataFrame([df_comp.div(df_comp.sum(axis=1), axis=0).mean()])], ignore_index=True)\n",
    "    #high frequency(apca1)\n",
    "    df_comp=pd.DataFrame(np.matrix(u[1:, 1:]) * np.diag(s[1:]) * np.matrix(v[1:, :]))\n",
    "    df_comp.columns=cols\n",
    "    #df_li=df_li.append(df_comp.div(df_comp.sum(axis=1), axis=0).mean(),ignore_index=True) pandas version\n",
    "    #df_li = pd.concat([df_li, pd.DataFrame([df_comp.div(df_comp.abs().sum(axis=1), axis=0).mean()])], ignore_index=True)\n",
    "    #df_li = pd.concat([df_li, pd.DataFrame([df_comp.div(temp_s).mean()])], ignore_index=True)#scale from before, mean\n",
    "    #df_li = pd.concat([df_li, pd.DataFrame([df_comp.div(temp_s).pow(2).sum()])], ignore_index=True)#scale from before, sum of squares\n",
    "    #df_li = pd.concat([df_li, pd.DataFrame([np.sqrt(df_comp.div(temp_s).pow(2).sum())])], ignore_index=True)#scale from before, square root sum of squares\n",
    "    df_li = pd.concat([df_li, pd.DataFrame([np.sqrt(df_comp.div(temp_s).pow(2).mean())])], ignore_index=True)#scale from before, std"
   ]
  },
  {
   "cell_type": "code",
   "execution_count": 31,
   "metadata": {},
   "outputs": [
    {
     "data": {
      "image/png": "[encoded data removed]",
      "text/plain": [
       "<Figure size 432x288 with 1 Axes>"
      ]
     },
     "metadata": {
      "needs_background": "light"
     },
     "output_type": "display_data"
    }
   ],
   "source": [
    "data=df_mi.mean().sort_values(ascending=False)\n",
    "names = list(data.keys())\n",
    "values = list(data)\n",
    "\n",
    "fig, ax = plt.subplots()\n",
    "ax.set_title('Estimación de intención de voto\\n Elecciones Presidenciales\\n Guatemala 2023\\n'+today)\n",
    "ax.bar(range(len(data)), values, tick_label=names)\n",
    "ax.yaxis.set_major_formatter(mtick.PercentFormatter(1.0,decimals=0))\n",
    "plt.xticks(rotation=90)\n",
    "plt.show()"
   ]
  },
  {
   "cell_type": "code",
   "execution_count": 32,
   "metadata": {},
   "outputs": [
    {
     "data": {
      "image/png": "[encoded data removed]",
      "text/plain": [
       "<Figure size 432x288 with 1 Axes>"
      ]
     },
     "metadata": {
      "needs_background": "light"
     },
     "output_type": "display_data"
    }
   ],
   "source": [
    "try:\n",
    "    del df_data\n",
    "except:\n",
    "    pass\n",
    "df_data=df_mi.copy()\n",
    "\n",
    "ax=df_data[list(data[:6].keys())].boxplot()\n",
    "plt.title('Rango de Candidatos\\n Elecciones Presidenciales\\n Guatemala 2023\\n'+today)\n",
    "plt.xticks(rotation = 90)\n",
    "ax.yaxis.set_major_formatter(mtick.PercentFormatter(1.0,decimals=0))\n",
    "plt.show()"
   ]
  },
  {
   "cell_type": "code",
   "execution_count": 33,
   "metadata": {},
   "outputs": [],
   "source": [
    "means=df_data.mean()\n",
    "devs=df_data.std()"
   ]
  },
  {
   "cell_type": "code",
   "execution_count": 34,
   "metadata": {},
   "outputs": [
    {
     "name": "stderr",
     "output_type": "stream",
     "text": [
      "/usr/local/lib/python3.7/site-packages/ipykernel_launcher.py:6: DeprecationWarning: The default dtype for empty Series will be 'object' instead of 'float64' in a future version. Specify a dtype explicitly to silence this warning.\n",
      "  \n"
     ]
    }
   ],
   "source": [
    "freq={}\n",
    "pairs={}\n",
    "\n",
    "n=10000\n",
    "for i in range(n):\n",
    "    sr = pd.Series(index = cols)\n",
    "    for party in cols:\n",
    "        sr[party]=np.random.normal(means[party],devs[party],1)[0]\n",
    "    top=list(sr.sort_values(ascending=False)[:2].keys())\n",
    "    for p in top:\n",
    "        try:\n",
    "            freq[p]+=1\n",
    "        except:\n",
    "            freq[p]=1\n",
    "    try:\n",
    "        pairs[tuple(top)]+=1\n",
    "    except:\n",
    "        pairs[tuple(top)]=1\n",
    "for party in list(freq.keys()):\n",
    "    freq[party]=freq[party]/n\n",
    "for pair in list(pairs.keys()):\n",
    "    pairs[pair]=pairs[pair]/n\n",
    "\n",
    "    "
   ]
  },
  {
   "cell_type": "code",
   "execution_count": 35,
   "metadata": {},
   "outputs": [],
   "source": [
    "second=sorted(freq.items(),key=lambda x:x[1], reverse=True)[:]"
   ]
  },
  {
   "cell_type": "code",
   "execution_count": 36,
   "metadata": {},
   "outputs": [
    {
     "data": {
      "text/plain": [
       "[('UNE', 0.8588),\n",
       " ('CABAL', 0.6802),\n",
       " ('VALOR-UNIONISTA', 0.4577),\n",
       " ('VICTORIA', 0.0033)]"
      ]
     },
     "execution_count": 36,
     "metadata": {},
     "output_type": "execute_result"
    }
   ],
   "source": [
    "second"
   ]
  },
  {
   "cell_type": "code",
   "execution_count": 37,
   "metadata": {},
   "outputs": [
    {
     "data": {
      "text/plain": [
       "[(('UNE', 'CABAL'), 0.2886),\n",
       " (('CABAL', 'UNE'), 0.2508),\n",
       " (('UNE', 'VALOR-UNIONISTA'), 0.2127),\n",
       " (('VALOR-UNIONISTA', 'UNE'), 0.1045),\n",
       " (('CABAL', 'VALOR-UNIONISTA'), 0.0837),\n",
       " (('VALOR-UNIONISTA', 'CABAL'), 0.0564),\n",
       " (('UNE', 'VICTORIA'), 0.002),\n",
       " (('CABAL', 'VICTORIA'), 0.0007),\n",
       " (('VALOR-UNIONISTA', 'VICTORIA'), 0.0004),\n",
       " (('VICTORIA', 'UNE'), 0.0002)]"
      ]
     },
     "execution_count": 37,
     "metadata": {},
     "output_type": "execute_result"
    }
   ],
   "source": [
    "sorted(pairs.items(),key=lambda x:x[1], reverse=True)[:]"
   ]
  },
  {
   "cell_type": "code",
   "execution_count": 38,
   "metadata": {},
   "outputs": [
    {
     "name": "stdout",
     "output_type": "stream",
     "text": [
      "('CABAL', 'UNE') 0.5394000000000001\n",
      "('UNE', 'VALOR-UNIONISTA') 0.3172\n",
      "('UNE', 'CABAL') 0.5394000000000001\n",
      "('VALOR-UNIONISTA', 'CABAL') 0.1401\n",
      "('CABAL', 'VALOR-UNIONISTA') 0.1401\n",
      "('VALOR-UNIONISTA', 'UNE') 0.3172\n"
     ]
    },
    {
     "ename": "KeyError",
     "evalue": "('VICTORIA', 'CABAL')",
     "output_type": "error",
     "traceback": [
      "\u001b[0;31m---------------------------------------------------------------------------\u001b[0m",
      "\u001b[0;31mKeyError\u001b[0m                                  Traceback (most recent call last)",
      "\u001b[0;32m<ipython-input-38-eab5a3851b4e>\u001b[0m in \u001b[0;36m<module>\u001b[0;34m\u001b[0m\n\u001b[1;32m      1\u001b[0m \u001b[0;32mfor\u001b[0m \u001b[0mpair\u001b[0m \u001b[0;32min\u001b[0m \u001b[0mpairs\u001b[0m\u001b[0;34m.\u001b[0m\u001b[0mkeys\u001b[0m\u001b[0;34m(\u001b[0m\u001b[0;34m)\u001b[0m\u001b[0;34m:\u001b[0m\u001b[0;34m\u001b[0m\u001b[0;34m\u001b[0m\u001b[0m\n\u001b[0;32m----> 2\u001b[0;31m     \u001b[0mprint\u001b[0m\u001b[0;34m(\u001b[0m\u001b[0mpair\u001b[0m\u001b[0;34m,\u001b[0m \u001b[0mpairs\u001b[0m\u001b[0;34m[\u001b[0m\u001b[0mpair\u001b[0m\u001b[0;34m]\u001b[0m\u001b[0;34m+\u001b[0m\u001b[0mpairs\u001b[0m\u001b[0;34m[\u001b[0m\u001b[0;34m(\u001b[0m\u001b[0mpair\u001b[0m\u001b[0;34m[\u001b[0m\u001b[0;36m1\u001b[0m\u001b[0;34m]\u001b[0m\u001b[0;34m,\u001b[0m\u001b[0mpair\u001b[0m\u001b[0;34m[\u001b[0m\u001b[0;36m0\u001b[0m\u001b[0;34m]\u001b[0m\u001b[0;34m)\u001b[0m\u001b[0;34m]\u001b[0m\u001b[0;34m)\u001b[0m\u001b[0;34m\u001b[0m\u001b[0;34m\u001b[0m\u001b[0m\n\u001b[0m",
      "\u001b[0;31mKeyError\u001b[0m: ('VICTORIA', 'CABAL')"
     ]
    }
   ],
   "source": [
    "for pair in pairs.keys():\n",
    "    print(pair, pairs[pair]+pairs[(pair[1],pair[0])])"
   ]
  },
  {
   "cell_type": "code",
   "execution_count": 39,
   "metadata": {},
   "outputs": [
    {
     "data": {
      "image/png": "[encoded data removed]",
      "text/plain": [
       "<Figure size 432x288 with 1 Axes>"
      ]
     },
     "metadata": {
      "needs_background": "light"
     },
     "output_type": "display_data"
    }
   ],
   "source": [
    "labels=[x[0] for x in second]\n",
    "values=[x[1] for x in second]\n",
    "\n",
    "fig, ax = plt.subplots()\n",
    "ax.bar(range(len(second)), values, tick_label=labels)\n",
    "ax.set_title('Probabilidad de pasar a segunda vuelta\\n Elecciones Presidenciales\\n Guatemala 2023\\n'+today)\n",
    "ax.yaxis.set_major_formatter(mtick.PercentFormatter(1.0,decimals=0))\n",
    "plt.xticks(rotation=90)\n",
    "plt.show()"
   ]
  },
  {
   "cell_type": "code",
   "execution_count": 16,
   "metadata": {},
   "outputs": [
    {
     "data": {
      "image/png": "[encoded data removed]",
      "text/plain": [
       "<Figure size 432x288 with 1 Axes>"
      ]
     },
     "metadata": {
      "needs_background": "light"
     },
     "output_type": "display_data"
    }
   ],
   "source": [
    "data=df_li.mean().sort_values(ascending=False)\n",
    "names = list(data.keys())\n",
    "values = list(data)\n",
    "\n",
    "fig, ax = plt.subplots()\n",
    "ax.bar(range(len(data)), values, tick_label=names)\n",
    "ax.set_title('Desviación estándar entre observación y estimación\\n Elecciones Presidenciales\\n Guatemala 2023\\n'+today)\n",
    "ax.yaxis.set_major_formatter(mtick.PercentFormatter(1.0,decimals=0))\n",
    "\n",
    "\n",
    "\n",
    "#plt.bar(range(len(data)), values, tick_label=names)\n",
    "plt.xticks(rotation=90)\n",
    "plt.show()"
   ]
  },
  {
   "cell_type": "code",
   "execution_count": 18,
   "metadata": {},
   "outputs": [],
   "source": [
    "#Simple Imputation\n",
    "for party in cols:\n",
    "    df_svds[party].fillna(value=df_svds[party].mean(), inplace=True)"
   ]
  },
  {
   "cell_type": "code",
   "execution_count": 19,
   "metadata": {},
   "outputs": [],
   "source": [
    "#df_svd=df_svd.fillna(0)"
   ]
  },
  {
   "cell_type": "code",
   "execution_count": 20,
   "metadata": {},
   "outputs": [],
   "source": [
    "u, s, v = np.linalg.svd(df_svds, full_matrices=False)\n"
   ]
  },
  {
   "cell_type": "code",
   "execution_count": 21,
   "metadata": {},
   "outputs": [
    {
     "data": {
      "image/png": "[encoded data removed]",
      "text/plain": [
       "<Figure size 432x288 with 1 Axes>"
      ]
     },
     "metadata": {
      "needs_background": "light"
     },
     "output_type": "display_data"
    }
   ],
   "source": [
    "#lower frequency(pca1)\n",
    "df_comp=pd.DataFrame(np.matrix(u[:1, :1]) * np.diag(s[:1]) * np.matrix(v[:1, :]))\n",
    "df_comp.columns=cols\n",
    "\n",
    "\n",
    "data=df_comp.div(df_comp.sum(axis=1), axis=0).mean().sort_values(ascending=False)\n",
    "names = list(data.keys())\n",
    "values = list(data)\n",
    "\n",
    "plt.bar(range(len(data)), values, tick_label=names)\n",
    "plt.xticks(rotation=90)\n",
    "plt.show()"
   ]
  },
  {
   "cell_type": "code",
   "execution_count": 22,
   "metadata": {},
   "outputs": [
    {
     "data": {
      "image/png": "[encoded data removed]",
      "text/plain": [
       "<Figure size 432x288 with 1 Axes>"
      ]
     },
     "metadata": {
      "needs_background": "light"
     },
     "output_type": "display_data"
    }
   ],
   "source": [
    "#higher frequency (antipca1)\n",
    "df_comp=pd.DataFrame(np.matrix(u[1:, 1:]) * np.diag(s[1:]) * np.matrix(v[1:, :]))\n",
    "df_comp.columns=cols\n",
    "\n",
    "data=df_comp.div(df_comp.abs().sum(axis=1), axis=0).mean().sort_values(ascending=False)\n",
    "names = list(data.keys())\n",
    "values = list(data)\n",
    "\n",
    "plt.bar(range(len(data)), values, tick_label=names)\n",
    "plt.xticks(rotation=90)\n",
    "plt.show()"
   ]
  },
  {
   "cell_type": "code",
   "execution_count": 45,
   "metadata": {},
   "outputs": [
    {
     "data": {
      "text/plain": [
       "<matplotlib.axes._subplots.AxesSubplot at 0x11b8dfb50>"
      ]
     },
     "execution_count": 45,
     "metadata": {},
     "output_type": "execute_result"
    },
    {
     "data": {
      "image/png": "[encoded data removed]",
      "text/plain": [
       "<Figure size 432x288 with 1 Axes>"
      ]
     },
     "metadata": {
      "needs_background": "light"
     },
     "output_type": "display_data"
    }
   ],
   "source": [
    "#higher frequency\n",
    "df_comp=pd.DataFrame(np.matrix(u[2:, 2:]) * np.diag(s[2:]) * np.matrix(v[2:, :]))\n",
    "df_comp.columns=cols\n",
    "df_comp.div(df_comp.sum(axis=1), axis=0).mean().sort_values(ascending=False).plot.bar()"
   ]
  },
  {
   "cell_type": "code",
   "execution_count": 46,
   "metadata": {},
   "outputs": [
    {
     "data": {
      "text/plain": [
       "<matplotlib.axes._subplots.AxesSubplot at 0x11ba2ce50>"
      ]
     },
     "execution_count": 46,
     "metadata": {},
     "output_type": "execute_result"
    },
    {
     "data": {
      "image/png": "[encoded data removed]",
      "text/plain": [
       "<Figure size 432x288 with 1 Axes>"
      ]
     },
     "metadata": {
      "needs_background": "light"
     },
     "output_type": "display_data"
    }
   ],
   "source": [
    "#higher frequency\n",
    "df_comp=pd.DataFrame(np.matrix(u[:, :2]) * np.diag(s[:2]) * np.matrix(v[:2, :]))\n",
    "df_comp.columns=cols\n",
    "df_comp.div(df_comp.sum(axis=1), axis=0).mean().sort_values(ascending=False).plot.bar()"
   ]
  },
  {
   "cell_type": "code",
   "execution_count": 47,
   "metadata": {},
   "outputs": [
    {
     "data": {
      "text/plain": [
       "<matplotlib.axes._subplots.AxesSubplot at 0x11bafc090>"
      ]
     },
     "execution_count": 47,
     "metadata": {},
     "output_type": "execute_result"
    },
    {
     "data": {
      "image/png": "[encoded data removed]",
      "text/plain": [
       "<Figure size 432x288 with 1 Axes>"
      ]
     },
     "metadata": {
      "needs_background": "light"
     },
     "output_type": "display_data"
    }
   ],
   "source": [
    "df_comp=pd.DataFrame(np.matrix(u[:, :6]) * np.diag(s[:6]) * np.matrix(v[:6, :]))\n",
    "df_comp.columns=cols\n",
    "df_comp.div(df_comp.sum(axis=1), axis=0).mean().sort_values(ascending=False).plot.bar()"
   ]
  }
 ],
 "metadata": {
  "kernelspec": {
   "display_name": "Python 3",
   "language": "python",
   "name": "python3"
  },
  "language_info": {
   "codemirror_mode": {
    "name": "ipython",
    "version": 3
   },
   "file_extension": ".py",
   "mimetype": "text/x-python",
   "name": "python",
   "nbconvert_exporter": "python",
   "pygments_lexer": "ipython3",
   "version": "3.7.7"
  }
 },
 "nbformat": 4,
 "nbformat_minor": 4
}
